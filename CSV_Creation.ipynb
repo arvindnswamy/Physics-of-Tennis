{
 "cells": [
  {
   "cell_type": "code",
   "execution_count": 176,
   "metadata": {},
   "outputs": [],
   "source": [
    "import os\n",
    "import csv\n",
    "import pandas as pd\n",
    "import numpy as np\n",
    "import librosa\n",
    "from matplotlib import pyplot as plt\n",
    "import librosa.display"
   ]
  },
  {
   "cell_type": "markdown",
   "metadata": {},
   "source": [
    "## Extracting file names as list"
   ]
  },
  {
   "cell_type": "code",
   "execution_count": 177,
   "metadata": {},
   "outputs": [],
   "source": [
    "folder_list = ['C:/Users/Ankit Kumar/Audio_Data/BallRacketWithBabolatAtHome','C:/Users/Ankit Kumar/Audio_Data//BallRacketWithWilsonAtHome']\n",
    "for i in folder_list:\n",
    "    my_files = [[f.name for f in os.scandir(i)if f.name.endswith('.wav')]]\n",
    "    #print(my_files)"
   ]
  },
  {
   "cell_type": "markdown",
   "metadata": {},
   "source": [
    "## Converting list data type to data frame and arranging data"
   ]
  },
  {
   "cell_type": "code",
   "execution_count": 178,
   "metadata": {},
   "outputs": [
    {
     "data": {
      "text/html": [
       "<div>\n",
       "<style scoped>\n",
       "    .dataframe tbody tr th:only-of-type {\n",
       "        vertical-align: middle;\n",
       "    }\n",
       "\n",
       "    .dataframe tbody tr th {\n",
       "        vertical-align: top;\n",
       "    }\n",
       "\n",
       "    .dataframe thead th {\n",
       "        text-align: right;\n",
       "    }\n",
       "</style>\n",
       "<table border=\"1\" class=\"dataframe\">\n",
       "  <thead>\n",
       "    <tr style=\"text-align: right;\">\n",
       "      <th></th>\n",
       "      <th>slice_file_name</th>\n",
       "    </tr>\n",
       "  </thead>\n",
       "  <tbody>\n",
       "    <tr>\n",
       "      <th>1</th>\n",
       "      <td>BF01.wav</td>\n",
       "    </tr>\n",
       "    <tr>\n",
       "      <th>2</th>\n",
       "      <td>BF02.wav</td>\n",
       "    </tr>\n",
       "    <tr>\n",
       "      <th>3</th>\n",
       "      <td>BF03.wav</td>\n",
       "    </tr>\n",
       "    <tr>\n",
       "      <th>4</th>\n",
       "      <td>BF04.wav</td>\n",
       "    </tr>\n",
       "    <tr>\n",
       "      <th>5</th>\n",
       "      <td>BF05.wav</td>\n",
       "    </tr>\n",
       "    <tr>\n",
       "      <th>6</th>\n",
       "      <td>BF06.wav</td>\n",
       "    </tr>\n",
       "    <tr>\n",
       "      <th>7</th>\n",
       "      <td>BF07.wav</td>\n",
       "    </tr>\n",
       "    <tr>\n",
       "      <th>8</th>\n",
       "      <td>BF08.wav</td>\n",
       "    </tr>\n",
       "    <tr>\n",
       "      <th>9</th>\n",
       "      <td>BF09.wav</td>\n",
       "    </tr>\n",
       "    <tr>\n",
       "      <th>10</th>\n",
       "      <td>BF10.wav</td>\n",
       "    </tr>\n",
       "  </tbody>\n",
       "</table>\n",
       "</div>"
      ],
      "text/plain": [
       "   slice_file_name\n",
       "1         BF01.wav\n",
       "2         BF02.wav\n",
       "3         BF03.wav\n",
       "4         BF04.wav\n",
       "5         BF05.wav\n",
       "6         BF06.wav\n",
       "7         BF07.wav\n",
       "8         BF08.wav\n",
       "9         BF09.wav\n",
       "10        BF10.wav"
      ]
     },
     "execution_count": 178,
     "metadata": {},
     "output_type": "execute_result"
    }
   ],
   "source": [
    "df = pd.DataFrame(my_files)\n",
    "df = df.T\n",
    "df.index = np.arange(1, len(df) + 1) # assign index from 1 \n",
    "df.columns = ['slice_file_name']     #entering column name\n",
    "df.head(10)"
   ]
  },
  {
   "cell_type": "markdown",
   "metadata": {},
   "source": [
    "## Extracting out sample_time and amplitude for each .wav file"
   ]
  },
  {
   "cell_type": "markdown",
   "metadata": {},
   "source": [
    "### Obtaining location of each file"
   ]
  },
  {
   "cell_type": "code",
   "execution_count": 179,
   "metadata": {},
   "outputs": [],
   "source": [
    "for column in df:\n",
    "    location = ('C:/Users/Ankit Kumar/Audio_Data/BallRacketWithBabolatAtHome/' + df[column])\n",
    "    location_list = location.tolist()"
   ]
  },
  {
   "cell_type": "code",
   "execution_count": 180,
   "metadata": {},
   "outputs": [],
   "source": [
    "ls = []\n",
    "for j in location_list:\n",
    "    time_series, sampling_rate = librosa.load(j)"
   ]
  },
  {
   "cell_type": "code",
   "execution_count": 181,
   "metadata": {
    "scrolled": false
   },
   "outputs": [],
   "source": [
    "ls = []\n",
    "for j in location_list:\n",
    "    time_series, sampling_rate = librosa.load(j)\n",
    "    time_series = ls.append(time_series)"
   ]
  },
  {
   "cell_type": "markdown",
   "metadata": {},
   "source": [
    "### Obtaining maximum amplitude value for each audio file"
   ]
  },
  {
   "cell_type": "code",
   "execution_count": 182,
   "metadata": {
    "scrolled": false
   },
   "outputs": [
    {
     "name": "stdout",
     "output_type": "stream",
     "text": [
      "137\n"
     ]
    }
   ],
   "source": [
    "max_t = []\n",
    "for k in range(len(ls)):\n",
    "    max_time_series_value = max(ls[k])\n",
    "    max_t.append(max_time_series_value)\n",
    "print(len(max_t))"
   ]
  },
  {
   "cell_type": "markdown",
   "metadata": {},
   "source": [
    "### Obtaining minimum amplitude value for each audio file"
   ]
  },
  {
   "cell_type": "code",
   "execution_count": 183,
   "metadata": {},
   "outputs": [
    {
     "name": "stdout",
     "output_type": "stream",
     "text": [
      "137\n"
     ]
    }
   ],
   "source": [
    "min_t = []\n",
    "for k in range(len(ls)):\n",
    "    max_time_series_value = min(ls[k])\n",
    "    min_t.append(max_time_series_value)\n",
    "print(len(min_t))"
   ]
  },
  {
   "cell_type": "markdown",
   "metadata": {},
   "source": [
    "### Obtaining data frame for maximum and minimum amplitude"
   ]
  },
  {
   "cell_type": "code",
   "execution_count": 184,
   "metadata": {},
   "outputs": [
    {
     "data": {
      "text/html": [
       "<div>\n",
       "<style scoped>\n",
       "    .dataframe tbody tr th:only-of-type {\n",
       "        vertical-align: middle;\n",
       "    }\n",
       "\n",
       "    .dataframe tbody tr th {\n",
       "        vertical-align: top;\n",
       "    }\n",
       "\n",
       "    .dataframe thead th {\n",
       "        text-align: right;\n",
       "    }\n",
       "</style>\n",
       "<table border=\"1\" class=\"dataframe\">\n",
       "  <thead>\n",
       "    <tr style=\"text-align: right;\">\n",
       "      <th></th>\n",
       "      <th>Maximum_Amplitude</th>\n",
       "    </tr>\n",
       "  </thead>\n",
       "  <tbody>\n",
       "    <tr>\n",
       "      <th>1</th>\n",
       "      <td>0.055378</td>\n",
       "    </tr>\n",
       "    <tr>\n",
       "      <th>2</th>\n",
       "      <td>0.054590</td>\n",
       "    </tr>\n",
       "    <tr>\n",
       "      <th>3</th>\n",
       "      <td>0.046576</td>\n",
       "    </tr>\n",
       "    <tr>\n",
       "      <th>4</th>\n",
       "      <td>0.041283</td>\n",
       "    </tr>\n",
       "    <tr>\n",
       "      <th>5</th>\n",
       "      <td>0.059564</td>\n",
       "    </tr>\n",
       "    <tr>\n",
       "      <th>...</th>\n",
       "      <td>...</td>\n",
       "    </tr>\n",
       "    <tr>\n",
       "      <th>133</th>\n",
       "      <td>0.054222</td>\n",
       "    </tr>\n",
       "    <tr>\n",
       "      <th>134</th>\n",
       "      <td>0.052037</td>\n",
       "    </tr>\n",
       "    <tr>\n",
       "      <th>135</th>\n",
       "      <td>0.065359</td>\n",
       "    </tr>\n",
       "    <tr>\n",
       "      <th>136</th>\n",
       "      <td>0.050903</td>\n",
       "    </tr>\n",
       "    <tr>\n",
       "      <th>137</th>\n",
       "      <td>0.051401</td>\n",
       "    </tr>\n",
       "  </tbody>\n",
       "</table>\n",
       "<p>137 rows × 1 columns</p>\n",
       "</div>"
      ],
      "text/plain": [
       "     Maximum_Amplitude\n",
       "1             0.055378\n",
       "2             0.054590\n",
       "3             0.046576\n",
       "4             0.041283\n",
       "5             0.059564\n",
       "..                 ...\n",
       "133           0.054222\n",
       "134           0.052037\n",
       "135           0.065359\n",
       "136           0.050903\n",
       "137           0.051401\n",
       "\n",
       "[137 rows x 1 columns]"
      ]
     },
     "execution_count": 184,
     "metadata": {},
     "output_type": "execute_result"
    }
   ],
   "source": [
    "df_max = pd.DataFrame(data=max_t)\n",
    "df_max.index = np.arange(1, len(df) + 1)\n",
    "df_max.columns = ['Maximum_Amplitude'] \n",
    "df_max"
   ]
  },
  {
   "cell_type": "code",
   "execution_count": 185,
   "metadata": {},
   "outputs": [
    {
     "data": {
      "text/html": [
       "<div>\n",
       "<style scoped>\n",
       "    .dataframe tbody tr th:only-of-type {\n",
       "        vertical-align: middle;\n",
       "    }\n",
       "\n",
       "    .dataframe tbody tr th {\n",
       "        vertical-align: top;\n",
       "    }\n",
       "\n",
       "    .dataframe thead th {\n",
       "        text-align: right;\n",
       "    }\n",
       "</style>\n",
       "<table border=\"1\" class=\"dataframe\">\n",
       "  <thead>\n",
       "    <tr style=\"text-align: right;\">\n",
       "      <th></th>\n",
       "      <th>Minimum_Amplitude</th>\n",
       "    </tr>\n",
       "  </thead>\n",
       "  <tbody>\n",
       "    <tr>\n",
       "      <th>1</th>\n",
       "      <td>-0.044052</td>\n",
       "    </tr>\n",
       "    <tr>\n",
       "      <th>2</th>\n",
       "      <td>-0.040773</td>\n",
       "    </tr>\n",
       "    <tr>\n",
       "      <th>3</th>\n",
       "      <td>-0.043746</td>\n",
       "    </tr>\n",
       "    <tr>\n",
       "      <th>4</th>\n",
       "      <td>-0.043415</td>\n",
       "    </tr>\n",
       "    <tr>\n",
       "      <th>5</th>\n",
       "      <td>-0.051010</td>\n",
       "    </tr>\n",
       "    <tr>\n",
       "      <th>...</th>\n",
       "      <td>...</td>\n",
       "    </tr>\n",
       "    <tr>\n",
       "      <th>133</th>\n",
       "      <td>-0.036193</td>\n",
       "    </tr>\n",
       "    <tr>\n",
       "      <th>134</th>\n",
       "      <td>-0.039495</td>\n",
       "    </tr>\n",
       "    <tr>\n",
       "      <th>135</th>\n",
       "      <td>-0.036664</td>\n",
       "    </tr>\n",
       "    <tr>\n",
       "      <th>136</th>\n",
       "      <td>-0.051171</td>\n",
       "    </tr>\n",
       "    <tr>\n",
       "      <th>137</th>\n",
       "      <td>-0.050305</td>\n",
       "    </tr>\n",
       "  </tbody>\n",
       "</table>\n",
       "<p>137 rows × 1 columns</p>\n",
       "</div>"
      ],
      "text/plain": [
       "     Minimum_Amplitude\n",
       "1            -0.044052\n",
       "2            -0.040773\n",
       "3            -0.043746\n",
       "4            -0.043415\n",
       "5            -0.051010\n",
       "..                 ...\n",
       "133          -0.036193\n",
       "134          -0.039495\n",
       "135          -0.036664\n",
       "136          -0.051171\n",
       "137          -0.050305\n",
       "\n",
       "[137 rows x 1 columns]"
      ]
     },
     "execution_count": 185,
     "metadata": {},
     "output_type": "execute_result"
    }
   ],
   "source": [
    "df_min = pd.DataFrame(data=min_t)\n",
    "df_min.index = np.arange(1, len(df) + 1)\n",
    "df_min.columns = ['Minimum_Amplitude'] \n",
    "df_min"
   ]
  },
  {
   "cell_type": "code",
   "execution_count": 186,
   "metadata": {},
   "outputs": [
    {
     "data": {
      "text/html": [
       "<div>\n",
       "<style scoped>\n",
       "    .dataframe tbody tr th:only-of-type {\n",
       "        vertical-align: middle;\n",
       "    }\n",
       "\n",
       "    .dataframe tbody tr th {\n",
       "        vertical-align: top;\n",
       "    }\n",
       "\n",
       "    .dataframe thead th {\n",
       "        text-align: right;\n",
       "    }\n",
       "</style>\n",
       "<table border=\"1\" class=\"dataframe\">\n",
       "  <thead>\n",
       "    <tr style=\"text-align: right;\">\n",
       "      <th></th>\n",
       "      <th>Location on drive</th>\n",
       "    </tr>\n",
       "  </thead>\n",
       "  <tbody>\n",
       "    <tr>\n",
       "      <th>1</th>\n",
       "      <td>C:/Users/Ankit Kumar/Audio_Data/BallRacketWith...</td>\n",
       "    </tr>\n",
       "    <tr>\n",
       "      <th>2</th>\n",
       "      <td>C:/Users/Ankit Kumar/Audio_Data/BallRacketWith...</td>\n",
       "    </tr>\n",
       "    <tr>\n",
       "      <th>3</th>\n",
       "      <td>C:/Users/Ankit Kumar/Audio_Data/BallRacketWith...</td>\n",
       "    </tr>\n",
       "    <tr>\n",
       "      <th>4</th>\n",
       "      <td>C:/Users/Ankit Kumar/Audio_Data/BallRacketWith...</td>\n",
       "    </tr>\n",
       "    <tr>\n",
       "      <th>5</th>\n",
       "      <td>C:/Users/Ankit Kumar/Audio_Data/BallRacketWith...</td>\n",
       "    </tr>\n",
       "    <tr>\n",
       "      <th>...</th>\n",
       "      <td>...</td>\n",
       "    </tr>\n",
       "    <tr>\n",
       "      <th>133</th>\n",
       "      <td>C:/Users/Ankit Kumar/Audio_Data/BallRacketWith...</td>\n",
       "    </tr>\n",
       "    <tr>\n",
       "      <th>134</th>\n",
       "      <td>C:/Users/Ankit Kumar/Audio_Data/BallRacketWith...</td>\n",
       "    </tr>\n",
       "    <tr>\n",
       "      <th>135</th>\n",
       "      <td>C:/Users/Ankit Kumar/Audio_Data/BallRacketWith...</td>\n",
       "    </tr>\n",
       "    <tr>\n",
       "      <th>136</th>\n",
       "      <td>C:/Users/Ankit Kumar/Audio_Data/BallRacketWith...</td>\n",
       "    </tr>\n",
       "    <tr>\n",
       "      <th>137</th>\n",
       "      <td>C:/Users/Ankit Kumar/Audio_Data/BallRacketWith...</td>\n",
       "    </tr>\n",
       "  </tbody>\n",
       "</table>\n",
       "<p>137 rows × 1 columns</p>\n",
       "</div>"
      ],
      "text/plain": [
       "                                     Location on drive\n",
       "1    C:/Users/Ankit Kumar/Audio_Data/BallRacketWith...\n",
       "2    C:/Users/Ankit Kumar/Audio_Data/BallRacketWith...\n",
       "3    C:/Users/Ankit Kumar/Audio_Data/BallRacketWith...\n",
       "4    C:/Users/Ankit Kumar/Audio_Data/BallRacketWith...\n",
       "5    C:/Users/Ankit Kumar/Audio_Data/BallRacketWith...\n",
       "..                                                 ...\n",
       "133  C:/Users/Ankit Kumar/Audio_Data/BallRacketWith...\n",
       "134  C:/Users/Ankit Kumar/Audio_Data/BallRacketWith...\n",
       "135  C:/Users/Ankit Kumar/Audio_Data/BallRacketWith...\n",
       "136  C:/Users/Ankit Kumar/Audio_Data/BallRacketWith...\n",
       "137  C:/Users/Ankit Kumar/Audio_Data/BallRacketWith...\n",
       "\n",
       "[137 rows x 1 columns]"
      ]
     },
     "execution_count": 186,
     "metadata": {},
     "output_type": "execute_result"
    }
   ],
   "source": [
    "df_location = pd.DataFrame(data=location_list)\n",
    "df_location.index = np.arange(1, len(df) + 1)\n",
    "df_location.columns = ['Location on drive'] \n",
    "df_location"
   ]
  },
  {
   "cell_type": "code",
   "execution_count": 187,
   "metadata": {},
   "outputs": [],
   "source": [
    "result = pd.concat([df,df_max, df_min,df_location], axis=1)"
   ]
  },
  {
   "cell_type": "code",
   "execution_count": 188,
   "metadata": {},
   "outputs": [
    {
     "data": {
      "text/html": [
       "<div>\n",
       "<style scoped>\n",
       "    .dataframe tbody tr th:only-of-type {\n",
       "        vertical-align: middle;\n",
       "    }\n",
       "\n",
       "    .dataframe tbody tr th {\n",
       "        vertical-align: top;\n",
       "    }\n",
       "\n",
       "    .dataframe thead th {\n",
       "        text-align: right;\n",
       "    }\n",
       "</style>\n",
       "<table border=\"1\" class=\"dataframe\">\n",
       "  <thead>\n",
       "    <tr style=\"text-align: right;\">\n",
       "      <th></th>\n",
       "      <th>slice_file_name</th>\n",
       "      <th>Maximum_Amplitude</th>\n",
       "      <th>Minimum_Amplitude</th>\n",
       "      <th>Location on drive</th>\n",
       "    </tr>\n",
       "  </thead>\n",
       "  <tbody>\n",
       "    <tr>\n",
       "      <th>1</th>\n",
       "      <td>BF01.wav</td>\n",
       "      <td>0.055378</td>\n",
       "      <td>-0.044052</td>\n",
       "      <td>C:/Users/Ankit Kumar/Audio_Data/BallRacketWith...</td>\n",
       "    </tr>\n",
       "    <tr>\n",
       "      <th>2</th>\n",
       "      <td>BF02.wav</td>\n",
       "      <td>0.054590</td>\n",
       "      <td>-0.040773</td>\n",
       "      <td>C:/Users/Ankit Kumar/Audio_Data/BallRacketWith...</td>\n",
       "    </tr>\n",
       "    <tr>\n",
       "      <th>3</th>\n",
       "      <td>BF03.wav</td>\n",
       "      <td>0.046576</td>\n",
       "      <td>-0.043746</td>\n",
       "      <td>C:/Users/Ankit Kumar/Audio_Data/BallRacketWith...</td>\n",
       "    </tr>\n",
       "    <tr>\n",
       "      <th>4</th>\n",
       "      <td>BF04.wav</td>\n",
       "      <td>0.041283</td>\n",
       "      <td>-0.043415</td>\n",
       "      <td>C:/Users/Ankit Kumar/Audio_Data/BallRacketWith...</td>\n",
       "    </tr>\n",
       "    <tr>\n",
       "      <th>5</th>\n",
       "      <td>BF05.wav</td>\n",
       "      <td>0.059564</td>\n",
       "      <td>-0.051010</td>\n",
       "      <td>C:/Users/Ankit Kumar/Audio_Data/BallRacketWith...</td>\n",
       "    </tr>\n",
       "    <tr>\n",
       "      <th>...</th>\n",
       "      <td>...</td>\n",
       "      <td>...</td>\n",
       "      <td>...</td>\n",
       "      <td>...</td>\n",
       "    </tr>\n",
       "    <tr>\n",
       "      <th>133</th>\n",
       "      <td>BF95.wav</td>\n",
       "      <td>0.054222</td>\n",
       "      <td>-0.036193</td>\n",
       "      <td>C:/Users/Ankit Kumar/Audio_Data/BallRacketWith...</td>\n",
       "    </tr>\n",
       "    <tr>\n",
       "      <th>134</th>\n",
       "      <td>BF96.wav</td>\n",
       "      <td>0.052037</td>\n",
       "      <td>-0.039495</td>\n",
       "      <td>C:/Users/Ankit Kumar/Audio_Data/BallRacketWith...</td>\n",
       "    </tr>\n",
       "    <tr>\n",
       "      <th>135</th>\n",
       "      <td>BF97.wav</td>\n",
       "      <td>0.065359</td>\n",
       "      <td>-0.036664</td>\n",
       "      <td>C:/Users/Ankit Kumar/Audio_Data/BallRacketWith...</td>\n",
       "    </tr>\n",
       "    <tr>\n",
       "      <th>136</th>\n",
       "      <td>BF98.wav</td>\n",
       "      <td>0.050903</td>\n",
       "      <td>-0.051171</td>\n",
       "      <td>C:/Users/Ankit Kumar/Audio_Data/BallRacketWith...</td>\n",
       "    </tr>\n",
       "    <tr>\n",
       "      <th>137</th>\n",
       "      <td>BF99.wav</td>\n",
       "      <td>0.051401</td>\n",
       "      <td>-0.050305</td>\n",
       "      <td>C:/Users/Ankit Kumar/Audio_Data/BallRacketWith...</td>\n",
       "    </tr>\n",
       "  </tbody>\n",
       "</table>\n",
       "<p>137 rows × 4 columns</p>\n",
       "</div>"
      ],
      "text/plain": [
       "    slice_file_name  Maximum_Amplitude  Minimum_Amplitude  \\\n",
       "1          BF01.wav           0.055378          -0.044052   \n",
       "2          BF02.wav           0.054590          -0.040773   \n",
       "3          BF03.wav           0.046576          -0.043746   \n",
       "4          BF04.wav           0.041283          -0.043415   \n",
       "5          BF05.wav           0.059564          -0.051010   \n",
       "..              ...                ...                ...   \n",
       "133        BF95.wav           0.054222          -0.036193   \n",
       "134        BF96.wav           0.052037          -0.039495   \n",
       "135        BF97.wav           0.065359          -0.036664   \n",
       "136        BF98.wav           0.050903          -0.051171   \n",
       "137        BF99.wav           0.051401          -0.050305   \n",
       "\n",
       "                                     Location on drive  \n",
       "1    C:/Users/Ankit Kumar/Audio_Data/BallRacketWith...  \n",
       "2    C:/Users/Ankit Kumar/Audio_Data/BallRacketWith...  \n",
       "3    C:/Users/Ankit Kumar/Audio_Data/BallRacketWith...  \n",
       "4    C:/Users/Ankit Kumar/Audio_Data/BallRacketWith...  \n",
       "5    C:/Users/Ankit Kumar/Audio_Data/BallRacketWith...  \n",
       "..                                                 ...  \n",
       "133  C:/Users/Ankit Kumar/Audio_Data/BallRacketWith...  \n",
       "134  C:/Users/Ankit Kumar/Audio_Data/BallRacketWith...  \n",
       "135  C:/Users/Ankit Kumar/Audio_Data/BallRacketWith...  \n",
       "136  C:/Users/Ankit Kumar/Audio_Data/BallRacketWith...  \n",
       "137  C:/Users/Ankit Kumar/Audio_Data/BallRacketWith...  \n",
       "\n",
       "[137 rows x 4 columns]"
      ]
     },
     "execution_count": 188,
     "metadata": {},
     "output_type": "execute_result"
    }
   ],
   "source": [
    "result"
   ]
  },
  {
   "cell_type": "code",
   "execution_count": 189,
   "metadata": {},
   "outputs": [],
   "source": [
    "result.to_csv('Physics_of_tennis.csv')                # to save as csv fil"
   ]
  },
  {
   "cell_type": "markdown",
   "metadata": {},
   "source": [
    "### Time from the main file"
   ]
  },
  {
   "cell_type": "code",
   "execution_count": 190,
   "metadata": {},
   "outputs": [],
   "source": [
    "root_audio_file_path = 'C:/Users/Ankit Kumar/Audio_Data/BallRacketWithWilsonAtHome.wav'\n",
    "librosa_root_audio_data,librosa_root_sample_rate = librosa.load(root_audio_file_path)\n",
    "root_audio_amplitude = librosa_root_audio_data\n",
    "np.set_printoptions(threshold=np.inf)"
   ]
  },
  {
   "cell_type": "code",
   "execution_count": 191,
   "metadata": {},
   "outputs": [
    {
     "name": "stdout",
     "output_type": "stream",
     "text": [
      "[['BR001_user.wav', 'BR002_user.wav', 'BR003_user.wav', 'BR004_user.wav', 'BR005_user.wav', 'BR006_user.wav']]\n"
     ]
    },
    {
     "data": {
      "text/html": [
       "<div>\n",
       "<style scoped>\n",
       "    .dataframe tbody tr th:only-of-type {\n",
       "        vertical-align: middle;\n",
       "    }\n",
       "\n",
       "    .dataframe tbody tr th {\n",
       "        vertical-align: top;\n",
       "    }\n",
       "\n",
       "    .dataframe thead th {\n",
       "        text-align: right;\n",
       "    }\n",
       "</style>\n",
       "<table border=\"1\" class=\"dataframe\">\n",
       "  <thead>\n",
       "    <tr style=\"text-align: right;\">\n",
       "      <th></th>\n",
       "      <th>slice_file_name</th>\n",
       "    </tr>\n",
       "  </thead>\n",
       "  <tbody>\n",
       "    <tr>\n",
       "      <th>1</th>\n",
       "      <td>BR001_user.wav</td>\n",
       "    </tr>\n",
       "    <tr>\n",
       "      <th>2</th>\n",
       "      <td>BR002_user.wav</td>\n",
       "    </tr>\n",
       "    <tr>\n",
       "      <th>3</th>\n",
       "      <td>BR003_user.wav</td>\n",
       "    </tr>\n",
       "    <tr>\n",
       "      <th>4</th>\n",
       "      <td>BR004_user.wav</td>\n",
       "    </tr>\n",
       "    <tr>\n",
       "      <th>5</th>\n",
       "      <td>BR005_user.wav</td>\n",
       "    </tr>\n",
       "  </tbody>\n",
       "</table>\n",
       "</div>"
      ],
      "text/plain": [
       "  slice_file_name\n",
       "1  BR001_user.wav\n",
       "2  BR002_user.wav\n",
       "3  BR003_user.wav\n",
       "4  BR004_user.wav\n",
       "5  BR005_user.wav"
      ]
     },
     "execution_count": 191,
     "metadata": {},
     "output_type": "execute_result"
    }
   ],
   "source": [
    "folder_list = ['C:/Users/Ankit Kumar/Audio_Data/Test']\n",
    "for i in folder_list:\n",
    "    my_files = [[f.name for f in os.scandir(i)if f.name.endswith('.wav')]]\n",
    "    print(my_files)\n",
    "    \n",
    "df_4_Time = pd.DataFrame(my_files)\n",
    "df_4_Time = df_4_Time.T\n",
    "df_4_Time.index = np.arange(1, len(df_4_Time) + 1) # assign index from 1 \n",
    "df_4_Time.columns = ['slice_file_name']     #entering column name\n",
    "df_4_Time.head()"
   ]
  },
  {
   "cell_type": "code",
   "execution_count": 201,
   "metadata": {},
   "outputs": [],
   "source": [
    "for column in df_4_Time:\n",
    "    location = ('C:/Users/Ankit Kumar/Audio_Data/Test/' + df_4_Time[column])\n",
    "    location_list_time = location.tolist()\n",
    "    \n",
    "lt = []\n",
    "for f in location_list_time:\n",
    "    librosa_audio_data,librosa_sample_rate = librosa.load(f)\n",
    "    librosa_audio_data = lt.append(librosa_audio_data)\n",
    "#print(lt)"
   ]
  },
  {
   "cell_type": "code",
   "execution_count": 198,
   "metadata": {},
   "outputs": [
    {
     "name": "stdout",
     "output_type": "stream",
     "text": [
      "[0.06984126984126984, 1.1451700680272108, 2.324263038548753, 1.7464399092970522, 2.324263038548753, 2.8813151927437644]\n",
      "[0.09977324263038549, 1.1751020408163266, 2.3541950113378687, 1.7763718820861678, 2.3541950113378687, 2.9112471655328798]\n"
     ]
    }
   ],
   "source": [
    "start_time_array = []\n",
    "end_time_array = []\n",
    "for t in range(len(df_4_Time)):\n",
    "    l_real_time = lt[t]\n",
    "    start_array = np.where(root_audio_amplitude == l_real_time[0] )\n",
    "    start_array = int(start_array[0])\n",
    "    #print('Start array', start_array)\n",
    "    end_array = np.where(root_audio_amplitude == l_real_time[-1])\n",
    "    end_array = int(end_array[0])\n",
    "    #print('End array', end_array)\n",
    "    start_timing = start_array/librosa_sample_rate\n",
    "    start_timing = start_time_array.append(start_timing)\n",
    "    end_timing = end_array/librosa_sample_rate\n",
    "    end_timing = end_time_array.append(end_timing)\n",
    "    \n",
    "print(start_time_array)\n",
    "print(end_time_array)"
   ]
  },
  {
   "cell_type": "code",
   "execution_count": 202,
   "metadata": {},
   "outputs": [
    {
     "data": {
      "text/html": [
       "<div>\n",
       "<style scoped>\n",
       "    .dataframe tbody tr th:only-of-type {\n",
       "        vertical-align: middle;\n",
       "    }\n",
       "\n",
       "    .dataframe tbody tr th {\n",
       "        vertical-align: top;\n",
       "    }\n",
       "\n",
       "    .dataframe thead th {\n",
       "        text-align: right;\n",
       "    }\n",
       "</style>\n",
       "<table border=\"1\" class=\"dataframe\">\n",
       "  <thead>\n",
       "    <tr style=\"text-align: right;\">\n",
       "      <th></th>\n",
       "      <th>Start Time in original File</th>\n",
       "      <th>End Time in orignal File</th>\n",
       "    </tr>\n",
       "  </thead>\n",
       "  <tbody>\n",
       "    <tr>\n",
       "      <th>1</th>\n",
       "      <td>0.069841</td>\n",
       "      <td>0.099773</td>\n",
       "    </tr>\n",
       "    <tr>\n",
       "      <th>2</th>\n",
       "      <td>1.145170</td>\n",
       "      <td>1.175102</td>\n",
       "    </tr>\n",
       "    <tr>\n",
       "      <th>3</th>\n",
       "      <td>2.324263</td>\n",
       "      <td>2.354195</td>\n",
       "    </tr>\n",
       "    <tr>\n",
       "      <th>4</th>\n",
       "      <td>1.746440</td>\n",
       "      <td>1.776372</td>\n",
       "    </tr>\n",
       "    <tr>\n",
       "      <th>5</th>\n",
       "      <td>2.324263</td>\n",
       "      <td>2.354195</td>\n",
       "    </tr>\n",
       "    <tr>\n",
       "      <th>6</th>\n",
       "      <td>2.881315</td>\n",
       "      <td>2.911247</td>\n",
       "    </tr>\n",
       "  </tbody>\n",
       "</table>\n",
       "</div>"
      ],
      "text/plain": [
       "   Start Time in original File  End Time in orignal File\n",
       "1                     0.069841                  0.099773\n",
       "2                     1.145170                  1.175102\n",
       "3                     2.324263                  2.354195\n",
       "4                     1.746440                  1.776372\n",
       "5                     2.324263                  2.354195\n",
       "6                     2.881315                  2.911247"
      ]
     },
     "execution_count": 202,
     "metadata": {},
     "output_type": "execute_result"
    }
   ],
   "source": [
    "# intialise data of lists.\n",
    "data = {'Start Time in original File':start_time_array ,\n",
    "        'End Time in orignal File':end_time_array}\n",
    "  \n",
    "# Create DataFrame\n",
    "df_time = pd.DataFrame(data)\n",
    "df_time.index = np.arange(1, len(df) + 1)\n",
    "# Print the output.\n",
    "df_time"
   ]
  }
 ],
 "metadata": {
  "kernelspec": {
   "display_name": "Python 3",
   "language": "python",
   "name": "python3"
  },
  "language_info": {
   "codemirror_mode": {
    "name": "ipython",
    "version": 3
   },
   "file_extension": ".py",
   "mimetype": "text/x-python",
   "name": "python",
   "nbconvert_exporter": "python",
   "pygments_lexer": "ipython3",
   "version": "3.8.5"
  }
 },
 "nbformat": 4,
 "nbformat_minor": 4
}
